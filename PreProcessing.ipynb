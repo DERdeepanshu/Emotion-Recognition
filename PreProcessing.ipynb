{
 "cells": [
  {
   "cell_type": "code",
   "execution_count": 1,
   "metadata": {},
   "outputs": [],
   "source": [
    "import pandas as pd\n",
    "\n",
    "df = pd.read_csv(\"data/legend.csv\")"
   ]
  },
  {
   "cell_type": "code",
   "execution_count": 3,
   "metadata": {},
   "outputs": [
    {
     "data": {
      "text/html": [
       "<div>\n",
       "<style scoped>\n",
       "    .dataframe tbody tr th:only-of-type {\n",
       "        vertical-align: middle;\n",
       "    }\n",
       "\n",
       "    .dataframe tbody tr th {\n",
       "        vertical-align: top;\n",
       "    }\n",
       "\n",
       "    .dataframe thead th {\n",
       "        text-align: right;\n",
       "    }\n",
       "</style>\n",
       "<table border=\"1\" class=\"dataframe\">\n",
       "  <thead>\n",
       "    <tr style=\"text-align: right;\">\n",
       "      <th></th>\n",
       "      <th>user.id</th>\n",
       "      <th>image</th>\n",
       "      <th>emotion</th>\n",
       "    </tr>\n",
       "  </thead>\n",
       "  <tbody>\n",
       "    <tr>\n",
       "      <th>0</th>\n",
       "      <td>628</td>\n",
       "      <td>facial-expressions_2868588k.jpg</td>\n",
       "      <td>anger</td>\n",
       "    </tr>\n",
       "    <tr>\n",
       "      <th>1</th>\n",
       "      <td>628</td>\n",
       "      <td>facial-expressions_2868585k.jpg</td>\n",
       "      <td>surprise</td>\n",
       "    </tr>\n",
       "    <tr>\n",
       "      <th>2</th>\n",
       "      <td>628</td>\n",
       "      <td>facial-expressions_2868584k.jpg</td>\n",
       "      <td>disgust</td>\n",
       "    </tr>\n",
       "    <tr>\n",
       "      <th>3</th>\n",
       "      <td>628</td>\n",
       "      <td>facial-expressions_2868582k.jpg</td>\n",
       "      <td>fear</td>\n",
       "    </tr>\n",
       "    <tr>\n",
       "      <th>4</th>\n",
       "      <td>dwdii</td>\n",
       "      <td>Aaron_Eckhart_0001.jpg</td>\n",
       "      <td>neutral</td>\n",
       "    </tr>\n",
       "    <tr>\n",
       "      <th>5</th>\n",
       "      <td>302</td>\n",
       "      <td>Aaron_Guiel_0001.jpg</td>\n",
       "      <td>happiness</td>\n",
       "    </tr>\n",
       "    <tr>\n",
       "      <th>6</th>\n",
       "      <td>302</td>\n",
       "      <td>Aaron_Patterson_0001.jpg</td>\n",
       "      <td>neutral</td>\n",
       "    </tr>\n",
       "    <tr>\n",
       "      <th>7</th>\n",
       "      <td>302</td>\n",
       "      <td>Aaron_Peirsol_0001.jpg</td>\n",
       "      <td>happiness</td>\n",
       "    </tr>\n",
       "    <tr>\n",
       "      <th>8</th>\n",
       "      <td>302</td>\n",
       "      <td>Aaron_Peirsol_0002.jpg</td>\n",
       "      <td>happiness</td>\n",
       "    </tr>\n",
       "    <tr>\n",
       "      <th>9</th>\n",
       "      <td>302</td>\n",
       "      <td>Aaron_Peirsol_0003.jpg</td>\n",
       "      <td>happiness</td>\n",
       "    </tr>\n",
       "  </tbody>\n",
       "</table>\n",
       "</div>"
      ],
      "text/plain": [
       "  user.id                            image    emotion\n",
       "0     628  facial-expressions_2868588k.jpg      anger\n",
       "1     628  facial-expressions_2868585k.jpg   surprise\n",
       "2     628  facial-expressions_2868584k.jpg    disgust\n",
       "3     628  facial-expressions_2868582k.jpg       fear\n",
       "4   dwdii           Aaron_Eckhart_0001.jpg    neutral\n",
       "5     302             Aaron_Guiel_0001.jpg  happiness\n",
       "6     302         Aaron_Patterson_0001.jpg    neutral\n",
       "7     302           Aaron_Peirsol_0001.jpg  happiness\n",
       "8     302           Aaron_Peirsol_0002.jpg  happiness\n",
       "9     302           Aaron_Peirsol_0003.jpg  happiness"
      ]
     },
     "execution_count": 3,
     "metadata": {},
     "output_type": "execute_result"
    }
   ],
   "source": [
    "df.head(10)"
   ]
  },
  {
   "cell_type": "code",
   "execution_count": 7,
   "metadata": {},
   "outputs": [],
   "source": [
    "df['emotion'] = df['emotion'].str.lower()"
   ]
  },
  {
   "cell_type": "code",
   "execution_count": 8,
   "metadata": {},
   "outputs": [
    {
     "data": {
      "text/plain": [
       "array(['anger', 'surprise', 'disgust', 'fear', 'neutral', 'happiness',\n",
       "       'sadness', 'contempt'], dtype=object)"
      ]
     },
     "execution_count": 8,
     "metadata": {},
     "output_type": "execute_result"
    }
   ],
   "source": [
    "df['emotion'].unique()"
   ]
  },
  {
   "cell_type": "code",
   "execution_count": 9,
   "metadata": {},
   "outputs": [],
   "source": [
    "anger = open('anger.txt', 'w')\n",
    "surprise = open('surprise.txt', 'w')\n",
    "disgust = open('disgust.txt', 'w')\n",
    "fear = open('fear.txt', 'w')\n",
    "neutral = open('neutral.txt', 'w')\n",
    "happy = open('happy.txt', 'w')\n",
    "sad = open('sad.txt', 'w')\n",
    "contempt = open('contempt.txt', 'w')"
   ]
  },
  {
   "cell_type": "code",
   "execution_count": 10,
   "metadata": {},
   "outputs": [],
   "source": [
    "for index, row in df.iterrows():\n",
    "    if row['emotion'] == 'anger':\n",
    "        anger.write(row['image']+\"\\n\")\n",
    "    elif row['emotion'] == 'surprise':\n",
    "        surprise.write(row['image']+\"\\n\")\n",
    "    elif row['emotion'] == 'disgust':\n",
    "        disgust.write(row['image']+\"\\n\")\n",
    "    elif row['emotion'] == 'fear':\n",
    "        fear.write(row['image']+\"\\n\")\n",
    "    elif row['emotion'] == 'neutral':\n",
    "        neutral.write(row['image']+\"\\n\")\n",
    "    elif row['emotion'] == 'happiness':\n",
    "        happy.write(row['image']+\"\\n\")\n",
    "    elif row['emotion'] == 'sadness':\n",
    "        sad.write(row['image']+\"\\n\")\n",
    "    elif row['emotion'] == 'contempt':\n",
    "        contempt.write(row['image']+\"\\n\")\n",
    "anger.close()\n",
    "surprise.close()\n",
    "disgust.close()\n",
    "fear.close()\n",
    "neutral.close()\n",
    "happy.close()\n",
    "sad.close()\n",
    "contempt.close()"
   ]
  },
  {
   "cell_type": "code",
   "execution_count": 8,
   "metadata": {},
   "outputs": [
    {
     "name": "stdout",
     "output_type": "stream",
     "text": [
      "done!!\n"
     ]
    }
   ],
   "source": [
    "import cv2\n",
    "\n",
    "with open(\"anger.txt\", 'r') as f:\n",
    "    img = [line.strip() for line in f]\n",
    "for image in img:\n",
    "    loadedImage = cv2.imread(\"images/\"+image)\n",
    "    cv2.imwrite(\"data-set/anger/\"+image, loadedImage)\n",
    "print(\"done!!\")\n",
    "f.close()"
   ]
  },
  {
   "cell_type": "code",
   "execution_count": 10,
   "metadata": {},
   "outputs": [
    {
     "name": "stdout",
     "output_type": "stream",
     "text": [
      "done!!\n"
     ]
    }
   ],
   "source": [
    "with open(\"surprise.txt\", 'r') as f:\n",
    "    img = [line.strip() for line in f]\n",
    "for image in img:\n",
    "    loadedImage = cv2.imread(\"images/\"+image)\n",
    "    cv2.imwrite(\"data-set/surprise/\"+image, loadedImage)\n",
    "print(\"done!!\")\n",
    "f.close()"
   ]
  },
  {
   "cell_type": "code",
   "execution_count": 11,
   "metadata": {},
   "outputs": [
    {
     "name": "stdout",
     "output_type": "stream",
     "text": [
      "done!!\n"
     ]
    }
   ],
   "source": [
    "with open(\"disgust.txt\", 'r') as f:\n",
    "    img = [line.strip() for line in f]\n",
    "for image in img:\n",
    "    loadedImage = cv2.imread(\"images/\"+image)\n",
    "    cv2.imwrite(\"data-set/disgust/\"+image, loadedImage)\n",
    "print(\"done!!\")\n",
    "f.close()"
   ]
  },
  {
   "cell_type": "code",
   "execution_count": 12,
   "metadata": {},
   "outputs": [
    {
     "name": "stdout",
     "output_type": "stream",
     "text": [
      "done!!\n"
     ]
    }
   ],
   "source": [
    "with open(\"fear.txt\", 'r') as f:\n",
    "    img = [line.strip() for line in f]\n",
    "for image in img:\n",
    "    loadedImage = cv2.imread(\"images/\"+image)\n",
    "    cv2.imwrite(\"data-set/fear/\"+image, loadedImage)\n",
    "print(\"done!!\")\n",
    "f.close()"
   ]
  },
  {
   "cell_type": "code",
   "execution_count": 13,
   "metadata": {},
   "outputs": [
    {
     "name": "stdout",
     "output_type": "stream",
     "text": [
      "done!!\n"
     ]
    }
   ],
   "source": [
    "with open(\"neutral.txt\", 'r') as f:\n",
    "    img = [line.strip() for line in f]\n",
    "for image in img:\n",
    "    loadedImage = cv2.imread(\"images/\"+image)\n",
    "    cv2.imwrite(\"data-set/neutral/\"+image, loadedImage)\n",
    "print(\"done!!\")\n",
    "f.close()"
   ]
  },
  {
   "cell_type": "code",
   "execution_count": 14,
   "metadata": {},
   "outputs": [
    {
     "name": "stdout",
     "output_type": "stream",
     "text": [
      "done!!\n"
     ]
    }
   ],
   "source": [
    "with open(\"happy.txt\", 'r') as f:\n",
    "    img = [line.strip() for line in f]\n",
    "for image in img:\n",
    "    loadedImage = cv2.imread(\"images/\"+image)\n",
    "    cv2.imwrite(\"data-set/happy/\"+image, loadedImage)\n",
    "print(\"done!!\")\n",
    "f.close()"
   ]
  },
  {
   "cell_type": "code",
   "execution_count": 15,
   "metadata": {},
   "outputs": [
    {
     "name": "stdout",
     "output_type": "stream",
     "text": [
      "done!!\n"
     ]
    }
   ],
   "source": [
    "with open(\"sad.txt\", 'r') as f:\n",
    "    img = [line.strip() for line in f]\n",
    "for image in img:\n",
    "    loadedImage = cv2.imread(\"images/\"+image)\n",
    "    cv2.imwrite(\"data-set/sad/\"+image, loadedImage)\n",
    "print(\"done!!\")\n",
    "f.close()"
   ]
  },
  {
   "cell_type": "code",
   "execution_count": 16,
   "metadata": {},
   "outputs": [
    {
     "name": "stdout",
     "output_type": "stream",
     "text": [
      "done!!\n"
     ]
    }
   ],
   "source": [
    "with open(\"contempt.txt\", 'r') as f:\n",
    "    img = [line.strip() for line in f]\n",
    "for image in img:\n",
    "    loadedImage = cv2.imread(\"images/\"+image)\n",
    "    cv2.imwrite(\"data-set/contempt/\"+image, loadedImage)\n",
    "print(\"done!!\")\n",
    "f.close()"
   ]
  },
  {
   "cell_type": "code",
   "execution_count": 17,
   "metadata": {},
   "outputs": [],
   "source": [
    "labels = {\"anger\": 0, \"surprise\": 1, \"disgust\": 2, \"fear\": 3, \"neutral\": 4, \"happy\": 5, \"sad\": 6, \"contempt\": 7}"
   ]
  },
  {
   "cell_type": "code",
   "execution_count": 3,
   "metadata": {},
   "outputs": [],
   "source": [
    "label_list = ['anger', 'surprise', 'disgust', 'fear', 'neutral', 'happy',\n",
    "       'sad', 'contempt']"
   ]
  },
  {
   "cell_type": "code",
   "execution_count": 24,
   "metadata": {},
   "outputs": [
    {
     "name": "stdout",
     "output_type": "stream",
     "text": [
      "done for anger\n",
      "done for surprise\n",
      "done for disgust\n",
      "done for fear\n",
      "done for neutral\n",
      "done for happy\n",
      "done for sad\n",
      "done for contempt\n"
     ]
    }
   ],
   "source": [
    "face_detector = cv2.CascadeClassifier(\"haarcascade_frontalface_default.xml\")\n",
    "count = 0\n",
    "for label in label_list:\n",
    "    with open(label+\".txt\", \"r\") as f:\n",
    "        images = [line.strip() for line in f]\n",
    "    for image in images:\n",
    "        img = cv2.imread(\"data-set/\"+label.strip()+\"/\"+image)\n",
    "        gray = cv2.cvtColor(img, cv2.COLOR_BGR2GRAY)\n",
    "        faces = face_detector.detectMultiScale(gray, 1.3, 5)\n",
    "        for (x, y, w, h) in faces:\n",
    "            count += 1\n",
    "            cv2.imwrite(\"dataset/User.\"+str(labels[label])+'.'+str(count)+'.jpg', gray[y:y+h, x:x+w])\n",
    "    print(\"done for \"+label)"
   ]
  },
  {
   "cell_type": "code",
   "execution_count": 1,
   "metadata": {},
   "outputs": [],
   "source": [
    "import cv2\n",
    "import numpy as np\n",
    "from PIL import Image\n",
    "import os\n",
    "import pandas as pd\n",
    "label_list = ['anger', 'surprise', 'disgust', 'fear', 'neutral', 'happy',\n",
    "       'sad', 'contempt']"
   ]
  },
  {
   "cell_type": "code",
   "execution_count": 2,
   "metadata": {},
   "outputs": [
    {
     "name": "stdout",
     "output_type": "stream",
     "text": [
      "\n",
      " [INFO] Training faces.....\n",
      "\n",
      " [INFO] 8 Emotions trained. Exiting Program\n"
     ]
    }
   ],
   "source": [
    "path = \"dataset\"\n",
    "recognizer = cv2.face.LBPHFaceRecognizer_create()\n",
    "detector = cv2.CascadeClassifier(\"haarcascade_frontalface_default.xml\")\n",
    "def getImagesAndLabels(path):\n",
    "    imagePaths = [os.path.join(path, f) for f in os.listdir(path)]\n",
    "    faceSamples = []\n",
    "    ids = []\n",
    "    \n",
    "    for imagePath in imagePaths:\n",
    "        PIL_img = Image.open(imagePath).convert('L')\n",
    "        img_numpy = np.array(PIL_img, 'uint8')\n",
    "        \n",
    "        id = int(os.path.split(imagePath)[-1].split(\".\")[1])\n",
    "        faces = detector.detectMultiScale(img_numpy)\n",
    "        \n",
    "        for (x, y, w, h) in faces:\n",
    "            faceSamples.append(img_numpy[y:y+h, x:x+w])\n",
    "            ids.append(id)\n",
    "    df = pd.DataFrame({'image': list(faceSamples), 'ids': list(ids)})\n",
    "    return df.sample(frac=1).reset_index(drop=True)\n",
    "\n",
    "print(\"\\n [INFO] Training faces.....\")\n",
    "df = getImagesAndLabels(path)\n",
    "faces = np.array(df['image'])\n",
    "ids = np.array(df['ids'])\n",
    "recognizer.train(faces, ids)\n",
    "recognizer.write('trainer/trainer.yml')\n",
    "print(\"\\n [INFO] {0} Emotions trained. Exiting Program\".format(len(np.unique(ids))))"
   ]
  },
  {
   "cell_type": "code",
   "execution_count": 2,
   "metadata": {},
   "outputs": [],
   "source": [
    "\"\"\"\n",
    "#FAILED MODEL\n",
    "recognizer = cv2.face.LBPHFaceRecognizer_create()\n",
    "recognizer.read('trainer/trainer.yml')\n",
    "faceCascade = cv2.CascadeClassifier(\"haarcascade_frontalface_default.xml\")\n",
    "font = cv2.FONT_HERSHEY_SIMPLEX\n",
    "label_list = ['anger', 'surprise', 'disgust', 'fear', 'neutral', 'happy',\n",
    "       'sad', 'contempt']\n",
    "id = 0\n",
    "cam = cv2.VideoCapture(0)\n",
    "cam.set(3, 640)\n",
    "cam.set(4, 480)\n",
    "minW = 0.1*cam.get(3)\n",
    "minH = 0.1*cam.get(4)\n",
    "while cam.isOpened():\n",
    "    ret, frame = cam.read()\n",
    "    frame = cv2.flip(frame, 1)\n",
    "    gray = cv2.cvtColor(frame, cv2.COLOR_BGR2GRAY)\n",
    "    faces = faceCascade.detectMultiScale(gray, 1.2, 5, minSize=(int(minW), int(minH)))\n",
    "    for (x, y, w, h) in faces:\n",
    "        cv2.rectangle(frame, (x, y), (x+w, y+h), (0, 255, 0), 2)\n",
    "        id, confidence = recognizer.predict(gray[y:y+h, x:x+w])\n",
    "        if confidence < 100:\n",
    "            id = label_list[id]\n",
    "            confidence = \"  {0}%\".format(round(100-confidence))\n",
    "        else:\n",
    "            id = \"unknown\"\n",
    "            confidence = \"  {0}%\".format(round(100-confidence))\n",
    "        cv2.putText(frame, str(id), (x+5, y-5), font, 1, (255, 255, 255), 2)\n",
    "        cv2.putText(frame, str(confidence), (x+5, y+h+5), font, 1, (255, 255, 0), 1)\n",
    "    cv2.imshow('video', frame)\n",
    "    if cv2.waitKey(1) & 0xFF == ord('q'):\n",
    "        break\n",
    "cam.release()\n",
    "\n",
    "\"\"\"\n",
    "        "
   ]
  },
  {
   "cell_type": "code",
   "execution_count": 32,
   "metadata": {},
   "outputs": [
    {
     "data": {
      "text/plain": [
       "4"
      ]
     },
     "execution_count": 32,
     "metadata": {},
     "output_type": "execute_result"
    }
   ],
   "source": []
  },
  {
   "cell_type": "code",
   "execution_count": 1,
   "metadata": {},
   "outputs": [
    {
     "ename": "NameError",
     "evalue": "name 'df' is not defined",
     "output_type": "error",
     "traceback": [
      "\u001b[1;31m---------------------------------------------------------------------------\u001b[0m",
      "\u001b[1;31mNameError\u001b[0m                                 Traceback (most recent call last)",
      "\u001b[1;32m<ipython-input-1-67e9b938c2bf>\u001b[0m in \u001b[0;36m<module>\u001b[1;34m\u001b[0m\n\u001b[1;32m----> 1\u001b[1;33m \u001b[0mdf\u001b[0m\u001b[1;33m.\u001b[0m\u001b[0mto_csv\u001b[0m\u001b[1;33m(\u001b[0m\u001b[1;34m\"image_data.csv\"\u001b[0m\u001b[1;33m)\u001b[0m\u001b[1;33m\u001b[0m\u001b[1;33m\u001b[0m\u001b[0m\n\u001b[0m",
      "\u001b[1;31mNameError\u001b[0m: name 'df' is not defined"
     ]
    }
   ],
   "source": [
    "df.to_csv(\"image_data.csv\")"
   ]
  },
  {
   "cell_type": "code",
   "execution_count": null,
   "metadata": {},
   "outputs": [],
   "source": []
  }
 ],
 "metadata": {
  "kernelspec": {
   "display_name": "Python 3",
   "language": "python",
   "name": "python3"
  },
  "language_info": {
   "codemirror_mode": {
    "name": "ipython",
    "version": 3
   },
   "file_extension": ".py",
   "mimetype": "text/x-python",
   "name": "python",
   "nbconvert_exporter": "python",
   "pygments_lexer": "ipython3",
   "version": "3.7.9"
  }
 },
 "nbformat": 4,
 "nbformat_minor": 4
}
