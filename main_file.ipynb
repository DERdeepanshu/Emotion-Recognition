{
 "cells": [
  {
   "cell_type": "code",
   "execution_count": 3,
   "metadata": {},
   "outputs": [
    {
     "name": "stdout",
     "output_type": "stream",
     "text": [
      "D:/facial_expression_recognition/pexels-photo-3777931.jpg\n"
     ]
    },
    {
     "name": "stderr",
     "output_type": "stream",
     "text": [
      "Exception in Tkinter callback\n",
      "Traceback (most recent call last):\n",
      "  File \"C:\\Users\\deepa\\anaconda3\\envs\\tf-gpu\\lib\\tkinter\\__init__.py\", line 1705, in __call__\n",
      "    return self.func(*args)\n",
      "  File \"<ipython-input-3-c1985181e4b2>\", line 19, in image_recog\n",
      "    run.image_recog(filename)\n",
      "  File \"D:\\facial_expression_recognition\\run.py\", line 74, in image_recog\n",
      "    cam.release()\n",
      "NameError: name 'cam' is not defined\n"
     ]
    }
   ],
   "source": [
    "from tkinter import *\n",
    "from tkinter import filedialog\n",
    "import cv2\n",
    "import numpy as np\n",
    "from tensorflow.keras.models import model_from_json\n",
    "from keras.preprocessing import image\n",
    "import os\n",
    "from pickle import load\n",
    "import run\n",
    "\n",
    "def browseFiles():\n",
    "    global filename\n",
    "    filename = filedialog.askopenfilename(initialdir='/', title=\"Select an image\",\n",
    "                                          filetypes=((\"image files\", \".jpg\"),\n",
    "                                                     (\"image files\", \".png\")))\n",
    "    label_file_explorer.configure(text=\"File Opened: \"+filename)\n",
    "\n",
    "def image_recog():\n",
    "    run.image_recog(filename)\n",
    "\n",
    "def video_recog():\n",
    "    run.video_recog()\n",
    "\n",
    "window = Tk()\n",
    "window.title(\"Emotion Recognition\")\n",
    "window.geometry(\"640x480\")\n",
    "window.config(background=\"white\")\n",
    "\n",
    "label_heading = Label(window, text=\"Facial Recognition\", width=40, height=3, font=(\"Courier\", 20))\n",
    "label_sub_head1 = Label(window, text=\"Image\", width=20, height=2, font=(\"Courier\", 10))\n",
    "label_sub_head2 = Label(window, text=\"Video\", width=20, height=2, font=(\"courier\", 10))\n",
    "\n",
    "label_file_explorer = Label(window, text=\"No Image Selected\",\n",
    "                               width=60, height=2, fg=\"gray\")\n",
    "\n",
    "button_explore = Button(window, text=\"Browse Files\", command=browseFiles, height=1, width=20)\n",
    "button_predict = Button(window, text=\"Recognize\", command=image_recog, width=10)\n",
    "button_video = Button(window, text=\"Start\", command=video_recog, width=10)\n",
    "button_exit = Button(window, text=\"Exit\", command=exit)\n",
    "\n",
    "label_heading.place(x=0, y=0)\n",
    "label_sub_head1.place(x=0, y=100)\n",
    "label_file_explorer.place(x=0, y=130)\n",
    "button_explore.place(x=427, y=133)\n",
    "button_predict.place(x=200, y=170)\n",
    "label_sub_head2.place(x=0, y=210)\n",
    "button_video.place(x=200, y=250)\n",
    "\n",
    "window.mainloop()\n"
   ]
  },
  {
   "cell_type": "code",
   "execution_count": null,
   "metadata": {},
   "outputs": [],
   "source": []
  }
 ],
 "metadata": {
  "kernelspec": {
   "display_name": "Python [conda env:tf-gpu] *",
   "language": "python",
   "name": "conda-env-tf-gpu-py"
  },
  "language_info": {
   "codemirror_mode": {
    "name": "ipython",
    "version": 3
   },
   "file_extension": ".py",
   "mimetype": "text/x-python",
   "name": "python",
   "nbconvert_exporter": "python",
   "pygments_lexer": "ipython3",
   "version": "3.7.9"
  }
 },
 "nbformat": 4,
 "nbformat_minor": 4
}
